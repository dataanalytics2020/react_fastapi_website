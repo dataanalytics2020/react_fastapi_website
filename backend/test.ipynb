{
 "cells": [
  {
   "cell_type": "code",
   "execution_count": 94,
   "metadata": {},
   "outputs": [],
   "source": [
    "from fastapi import FastAPI, Request\n",
    "from starlette.requests import Request\n",
    "from scraper import Scraper\n",
    "from fastapi.templating import Jinja2Templates\n",
    "from fastapi import FastAPI, Request\n",
    "from fastapi.responses import HTMLResponse\n",
    "from fastapi.staticfiles import StaticFiles\n",
    "from fastapi.templating import Jinja2Templates\n",
    "from fastapi.responses import HTMLResponse\n",
    "import requests\n",
    "import bs4\n",
    "import pandas as pd\n",
    "import unicodedata\n",
    "import string\n",
    "from bs4 import BeautifulSoup\n",
    "from datetime import date, timedelta"
   ]
  },
  {
   "cell_type": "code",
   "execution_count": 95,
   "metadata": {},
   "outputs": [
    {
     "name": "stdout",
     "output_type": "stream",
     "text": [
      "0\n",
      "1\n",
      "2\n",
      "3\n",
      "4\n",
      "5\n",
      "6\n",
      "7\n",
      "取得日 2023-04-17\n",
      "8\n",
      "9\n",
      "10\n",
      "11\n",
      "12\n",
      "13\n",
      "14\n",
      "15\n",
      "16\n",
      "17\n",
      "取得日 2023-04-07\n",
      "18\n",
      "19\n",
      "20\n",
      "21\n",
      "22\n",
      "23\n",
      "24\n",
      "25\n",
      "26\n",
      "27\n",
      "28\n",
      "取得日 2023-03-27\n"
     ]
    }
   ],
   "source": [
    "def removal_text(text):\n",
    "    text = unicodedata.normalize(\"NFKC\", text)\n",
    "    text = text.translate(str.maketrans( '', '',string.punctuation  + '！'+ '　'+ ' '+'・'+'～' + '‐'))\n",
    "    return text\n",
    "\n",
    "target_n_day = '7'\n",
    "serch_tenpo_name = 'マルハン新宿東宝ビル店'\n",
    "target_number = str(target_n_day)\n",
    "target_day_list = []\n",
    "number = 0\n",
    "\n",
    "for i in range(3):\n",
    "    while True:\n",
    "        print(number)\n",
    "        if target_number == str(date.today() - timedelta(days=number))[-1]:\n",
    "            target_day = date.today() - timedelta(days=number)\n",
    "            print('取得日',target_day)\n",
    "            target_day_str = target_day.strftime('%Y-%m-%d')\n",
    "            target_day_list.append(target_day_str)\n",
    "            number += 1\n",
    "            break\n",
    "        else: \n",
    "            pass\n",
    "        number += 1\n",
    "target_day_list   \n",
    "concat_df_list = []\n",
    "urls = []\n",
    "for serch_date in target_day_list:\n",
    "    search_url = url = f\"https://ana-slo.com/{serch_date}-{serch_tenpo_name}-data/\"\n",
    "    urls.append(search_url)\n",
    "    #search_response = requests.get(search_url)\n",
    "    #print(search_response)\n",
    "    # soup = BeautifulSoup(search_response.text, 'html.parser')\n",
    "    # dfs = pd.read_html(str(soup))\n",
    "    # for df in dfs:\n",
    "    #     if '機種名' in list(df.columns):\n",
    "    #         tmp_df = df\n",
    "    #         tmp_df['店舗名'] = serch_tenpo_name\n",
    "    #         tmp_df['機種名'] = tmp_df['機種名'].map(removal_text)\n",
    "    #         break\n",
    "    # concat_df_list.append(df)"
   ]
  },
  {
   "cell_type": "code",
   "execution_count": null,
   "metadata": {},
   "outputs": [],
   "source": []
  }
 ],
 "metadata": {
  "kernelspec": {
   "display_name": "Python 3.9.7 64-bit ('3.9.7')",
   "language": "python",
   "name": "python3"
  },
  "language_info": {
   "codemirror_mode": {
    "name": "ipython",
    "version": 3
   },
   "file_extension": ".py",
   "mimetype": "text/x-python",
   "name": "python",
   "nbconvert_exporter": "python",
   "pygments_lexer": "ipython3",
   "version": "3.9.7"
  },
  "orig_nbformat": 4,
  "vscode": {
   "interpreter": {
    "hash": "79d7d0e86dc914aad0944badf4dccbf606995b0e626b3329b4f8aa0aabfbd635"
   }
  }
 },
 "nbformat": 4,
 "nbformat_minor": 2
}
