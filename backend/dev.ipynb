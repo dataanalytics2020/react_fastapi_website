{
 "cells": [
  {
   "cell_type": "code",
   "execution_count": 2,
   "metadata": {},
   "outputs": [],
   "source": [
    "json_data =eval('[{\"rank\":1,\"title\":\"一撃\",\"url\":\"https://1geki.jp/\"},{\"rank\":2,\"title\":\"パチスロ,パチンコ,スロット,立ち回り,機種情報,ライター,新台導入 ...\",\"url\":\"https://p-gabu.jp/guideworks/machinecontents\"},{\"rank\":3,\"title\":\"P-WORLD | 【業界NO.1】全国パチンコ・パチスロ店舗検索 機種 ...\",\"url\":\"https://www.p-world.co.jp/\"},{\"rank\":4,\"title\":\"パチンコ・パチスロ新台カレンダー【4/15更新！】 - DMMぱちタウン\",\"url\":\"https://p-town.dmm.com/machines/new_calendar\"},{\"rank\":5,\"title\":\"パチンコ・パチスロ(スロット)の遊び方｜ジャパンニューアルファ\",\"url\":\"https://www.jn-alpha.co.jp/guide\"}]')"
   ]
  },
  {
   "cell_type": "code",
   "execution_count": 5,
   "metadata": {},
   "outputs": [
    {
     "data": {
      "text/html": [
       "<div>\n",
       "<style scoped>\n",
       "    .dataframe tbody tr th:only-of-type {\n",
       "        vertical-align: middle;\n",
       "    }\n",
       "\n",
       "    .dataframe tbody tr th {\n",
       "        vertical-align: top;\n",
       "    }\n",
       "\n",
       "    .dataframe thead th {\n",
       "        text-align: right;\n",
       "    }\n",
       "</style>\n",
       "<table border=\"1\" class=\"dataframe\">\n",
       "  <thead>\n",
       "    <tr style=\"text-align: right;\">\n",
       "      <th></th>\n",
       "      <th>rank</th>\n",
       "      <th>title</th>\n",
       "      <th>url</th>\n",
       "    </tr>\n",
       "  </thead>\n",
       "  <tbody>\n",
       "    <tr>\n",
       "      <th>0</th>\n",
       "      <td>1</td>\n",
       "      <td>一撃</td>\n",
       "      <td>https://1geki.jp/</td>\n",
       "    </tr>\n",
       "    <tr>\n",
       "      <th>1</th>\n",
       "      <td>2</td>\n",
       "      <td>パチスロ,パチンコ,スロット,立ち回り,機種情報,ライター,新台導入 ...</td>\n",
       "      <td>https://p-gabu.jp/guideworks/machinecontents</td>\n",
       "    </tr>\n",
       "    <tr>\n",
       "      <th>2</th>\n",
       "      <td>3</td>\n",
       "      <td>P-WORLD | 【業界NO.1】全国パチンコ・パチスロ店舗検索 機種 ...</td>\n",
       "      <td>https://www.p-world.co.jp/</td>\n",
       "    </tr>\n",
       "    <tr>\n",
       "      <th>3</th>\n",
       "      <td>4</td>\n",
       "      <td>パチンコ・パチスロ新台カレンダー【4/15更新！】 - DMMぱちタウン</td>\n",
       "      <td>https://p-town.dmm.com/machines/new_calendar</td>\n",
       "    </tr>\n",
       "    <tr>\n",
       "      <th>4</th>\n",
       "      <td>5</td>\n",
       "      <td>パチンコ・パチスロ(スロット)の遊び方｜ジャパンニューアルファ</td>\n",
       "      <td>https://www.jn-alpha.co.jp/guide</td>\n",
       "    </tr>\n",
       "  </tbody>\n",
       "</table>\n",
       "</div>"
      ],
      "text/plain": [
       "   rank                                     title  \\\n",
       "0     1                                        一撃   \n",
       "1     2    パチスロ,パチンコ,スロット,立ち回り,機種情報,ライター,新台導入 ...   \n",
       "2     3  P-WORLD | 【業界NO.1】全国パチンコ・パチスロ店舗検索 機種 ...   \n",
       "3     4      パチンコ・パチスロ新台カレンダー【4/15更新！】 - DMMぱちタウン   \n",
       "4     5           パチンコ・パチスロ(スロット)の遊び方｜ジャパンニューアルファ   \n",
       "\n",
       "                                            url  \n",
       "0                             https://1geki.jp/  \n",
       "1  https://p-gabu.jp/guideworks/machinecontents  \n",
       "2                    https://www.p-world.co.jp/  \n",
       "3  https://p-town.dmm.com/machines/new_calendar  \n",
       "4              https://www.jn-alpha.co.jp/guide  "
      ]
     },
     "execution_count": 5,
     "metadata": {},
     "output_type": "execute_result"
    }
   ],
   "source": [
    "import pandas as pd\n",
    "json_data ='[{\"rank\":1,\"title\":\"一撃\",\"url\":\"https://1geki.jp/\"},{\"rank\":2,\"title\":\"パチスロ,パチンコ,スロット,立ち回り,機種情報,ライター,新台導入 ...\",\"url\":\"https://p-gabu.jp/guideworks/machinecontents\"},{\"rank\":3,\"title\":\"P-WORLD | 【業界NO.1】全国パチンコ・パチスロ店舗検索 機種 ...\",\"url\":\"https://www.p-world.co.jp/\"},{\"rank\":4,\"title\":\"パチンコ・パチスロ新台カレンダー【4/15更新！】 - DMMぱちタウン\",\"url\":\"https://p-town.dmm.com/machines/new_calendar\"},{\"rank\":5,\"title\":\"パチンコ・パチスロ(スロット)の遊び方｜ジャパンニューアルファ\",\"url\":\"https://www.jn-alpha.co.jp/guide\"}]'\n",
    "df_s = pd.read_json(json_data)\n",
    "df_s\n"
   ]
  }
 ],
 "metadata": {
  "kernelspec": {
   "display_name": "Python 3.8.9 64-bit",
   "language": "python",
   "name": "python3"
  },
  "language_info": {
   "codemirror_mode": {
    "name": "ipython",
    "version": 3
   },
   "file_extension": ".py",
   "mimetype": "text/x-python",
   "name": "python",
   "nbconvert_exporter": "python",
   "pygments_lexer": "ipython3",
   "version": "3.8.9"
  },
  "orig_nbformat": 4,
  "vscode": {
   "interpreter": {
    "hash": "31f2aee4e71d21fbe5cf8b01ff0e069b9275f58929596ceb00d14d90e3e16cd6"
   }
  }
 },
 "nbformat": 4,
 "nbformat_minor": 2
}
